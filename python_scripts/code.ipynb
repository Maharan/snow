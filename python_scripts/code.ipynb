{
 "cells": [
  {
   "cell_type": "code",
   "execution_count": 346,
   "metadata": {},
   "outputs": [],
   "source": [
    "from bs4 import BeautifulSoup\n",
    "import requests\n",
    "import numpy as np\n",
    "import pandas as pd\n",
    "import time"
   ]
  },
  {
   "cell_type": "code",
   "execution_count": 342,
   "metadata": {},
   "outputs": [],
   "source": [
    "urlroot = 'https://www.olympiandatabase.com'"
   ]
  },
  {
   "cell_type": "code",
   "execution_count": 362,
   "metadata": {},
   "outputs": [],
   "source": [
    "def get_team_members(thingy):\n",
    "    if (thingy.parent is not None) & (thingy.parent.next_sibling is not None) & (thingy.parent.next_sibling.next_sibling is not None):\n",
    "        if (thingy.parent.next_sibling.next_sibling.td is not None) & (thingy.parent.next_sibling.next_sibling.td.next_sibling is not None):\n",
    "            if len(str(thingy.parent.next_sibling.next_sibling.td.next_sibling.get_text()))>3:\n",
    "                    print(\"athlete: \", thingy.parent.next_sibling.next_sibling.td.next_sibling.get_text())\n",
    "                    get_team_members(thingy.parent.next_sibling.next_sibling.td)"
   ]
  },
  {
   "cell_type": "code",
   "execution_count": 404,
   "metadata": {},
   "outputs": [],
   "source": [
    "def get_people(url):\n",
    "    page = requests.get(url)\n",
    "    soup = BeautifulSoup(page.text, 'html')\n",
    "    place = 1\n",
    "    discriminant = True\n",
    "    for thing in soup.find_all(\"td\", height = \"10\"):\n",
    "        if thing.img is not None:\n",
    "            discriminant = discriminant & False\n",
    "            print(place)\n",
    "            if str(thing.img)[68:74] == \"Gold_m\":\n",
    "                print(\"Gold\")\n",
    "            else:\n",
    "                print(str(thing.img)[68:74])\n",
    "            print(\"country_code: \", thing.next_sibling.next_sibling.next_sibling.get_text())\n",
    "            print(\"athlete: \", thing.next_sibling.get_text())\n",
    "            get_team_members(thing)\n",
    "            place += 1\n",
    "    if discriminant:\n",
    "        for thing in soup.find_all(\"td\", height = \"15\"):\n",
    "            if thing.img is not None:\n",
    "                print(place)\n",
    "                if str(thing.img)[68:74] == \"Gold_m\":\n",
    "                    print(\"Gold\")\n",
    "                else:\n",
    "                    print(str(thing.img)[68:74])\n",
    "                print(\"country_code: \", \"NA\")\n",
    "                print(\"athlete: \", thing.next_sibling.get_text())\n",
    "                place += 1"
   ]
  },
  {
   "cell_type": "code",
   "execution_count": 351,
   "metadata": {},
   "outputs": [],
   "source": [
    "def get_events(url):\n",
    "    page = requests.get(url)\n",
    "    soup = BeautifulSoup(page.text, 'html')\n",
    "    for thing in soup.find_all(\"td\", height = \"25\"):\n",
    "        if thing.img is not None:\n",
    "            if thing.previous_sibling is not None and thing.previous_sibling.previous_sibling is not None and thing.previous_sibling.previous_sibling.previous_sibling is not None and thing.previous_sibling.previous_sibling.previous_sibling.previous_sibling is not None:\n",
    "                print(\"Event: \", thing.previous_sibling.previous_sibling.previous_sibling.previous_sibling.get_text())\n",
    "                nexturl = urlroot + str(thing.previous_sibling.previous_sibling.previous_sibling.previous_sibling.a['href'])\n",
    "                get_people(nexturl)"
   ]
  },
  {
   "cell_type": "code",
   "execution_count": 408,
   "metadata": {},
   "outputs": [],
   "source": [
    "def get_sports(url):\n",
    "    page = requests.get(url)\n",
    "    soup = BeautifulSoup(page.text, 'html')\n",
    "    for thing in soup.find_all(\"td\", height = \"45\", align=\"left\"):\n",
    "        print(\"Sport: \", thing.next_sibling.next_sibling.get_text())\n",
    "        nexturl = urlroot + str(thing.next_sibling.next_sibling.a['href'])\n",
    "        get_events(nexturl)\n",
    "        time.sleep(1)"
   ]
  },
  {
   "cell_type": "code",
   "execution_count": 443,
   "metadata": {},
   "outputs": [],
   "source": [
    "def get_olympics(url):\n",
    "    page = requests.get(url)\n",
    "    soup = BeautifulSoup(page.text, 'html')\n",
    "    for thing in soup.find_all(\"td\", height = \"35\"):\n",
    "        if len(thing.next_sibling.next_sibling.next_sibling.get_text())>0:\n",
    "            print(\"City: \", str(thing.next_sibling.next_sibling.get_text())[0:-5])\n",
    "            print(\"Year: \", str(thing.next_sibling.next_sibling.get_text())[-4:])\n",
    "            nexturl = urlroot + str(thing.next_sibling.next_sibling.a['href'])\n",
    "            get_sports(nexturl)"
   ]
  },
  {
   "cell_type": "code",
   "execution_count": null,
   "metadata": {},
   "outputs": [],
   "source": [
    "get_people('https://www.olympiandatabase.com/index.php?id=23425&L=1')"
   ]
  },
  {
   "cell_type": "code",
   "execution_count": null,
   "metadata": {},
   "outputs": [],
   "source": [
    "get_events('https://www.olympiandatabase.com/index.php?id=23326&L=1')"
   ]
  },
  {
   "cell_type": "code",
   "execution_count": null,
   "metadata": {},
   "outputs": [],
   "source": [
    "get_sports('https://www.olympiandatabase.com/index.php?id=23286&L=1')"
   ]
  },
  {
   "cell_type": "code",
   "execution_count": null,
   "metadata": {},
   "outputs": [],
   "source": [
    "get_olympics('https://www.olympiandatabase.com/index.php?id=278979&L=1')"
   ]
  },
  {
   "cell_type": "code",
   "execution_count": 409,
   "metadata": {},
   "outputs": [],
   "source": [
    "url = 'https://www.olympiandatabase.com/index.php?id=278979&L=1'\n",
    "page = requests.get(url)\n",
    "soup = BeautifulSoup(page.text, 'html')"
   ]
  },
  {
   "cell_type": "code",
   "execution_count": null,
   "metadata": {},
   "outputs": [],
   "source": [
    "print(soup.prettify())"
   ]
  }
 ],
 "metadata": {
  "kernelspec": {
   "display_name": "venv",
   "language": "python",
   "name": "python3"
  },
  "language_info": {
   "codemirror_mode": {
    "name": "ipython",
    "version": 3
   },
   "file_extension": ".py",
   "mimetype": "text/x-python",
   "name": "python",
   "nbconvert_exporter": "python",
   "pygments_lexer": "ipython3",
   "version": "3.11.7"
  }
 },
 "nbformat": 4,
 "nbformat_minor": 2
}
